{
  "nbformat": 4,
  "nbformat_minor": 0,
  "metadata": {
    "colab": {
      "provenance": []
    },
    "kernelspec": {
      "name": "python3",
      "display_name": "Python 3"
    },
    "language_info": {
      "name": "python"
    }
  },
  "cells": [
    {
      "cell_type": "code",
      "source": [
        "def calc_tax(price :int, tax_per :int) -> int:\n",
        "  result = price + price * (tax_per * 0.01)\n",
        "  return result\n",
        "\n",
        "print(calc_tax(200, 10))"
      ],
      "metadata": {
        "id": "ZCjcoygenPHg",
        "outputId": "0f908bab-42f5-42d1-c227-d7b774e6abe1",
        "colab": {
          "base_uri": "https://localhost:8080/"
        }
      },
      "execution_count": 8,
      "outputs": [
        {
          "output_type": "stream",
          "name": "stdout",
          "text": [
            "220.0\n"
          ]
        }
      ]
    }
  ]
}