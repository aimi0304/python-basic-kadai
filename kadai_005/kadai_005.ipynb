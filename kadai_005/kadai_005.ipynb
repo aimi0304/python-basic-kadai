{
  "nbformat": 4,
  "nbformat_minor": 0,
  "metadata": {
    "colab": {
      "provenance": []
    },
    "kernelspec": {
      "name": "python3",
      "display_name": "Python 3"
    },
    "language_info": {
      "name": "python"
    }
  },
  "cells": [
    {
      "cell_type": "code",
      "source": [
        "upper = 10\n",
        "under = 20\n",
        "height = 5\n",
        "result = (upper + under) * height / 2\n",
        "print(f\"{result}㎠\")"
      ],
      "metadata": {
        "colab": {
          "base_uri": "https://localhost:8080/"
        },
        "id": "F8RsYJ7fRV_l",
        "outputId": "bc12cd25-8bd5-4b71-c073-7652c4c719f2"
      },
      "execution_count": 5,
      "outputs": [
        {
          "output_type": "stream",
          "name": "stdout",
          "text": [
            "75.0㎠\n"
          ]
        }
      ]
    }
  ]
}