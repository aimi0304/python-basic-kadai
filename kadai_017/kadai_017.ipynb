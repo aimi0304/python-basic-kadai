{
  "nbformat": 4,
  "nbformat_minor": 0,
  "metadata": {
    "colab": {
      "provenance": []
    },
    "kernelspec": {
      "name": "python3",
      "display_name": "Python 3"
    },
    "language_info": {
      "name": "python"
    }
  },
  "cells": [
    {
      "cell_type": "code",
      "source": [
        "class Human:\n",
        "  def __init__(self, name, age):\n",
        "    self.name = name\n",
        "    self.age = age\n",
        "\n",
        "  def check_adult(self):\n",
        "    if self.age >= 20:\n",
        "      print(\"大人です\")\n",
        "    else:\n",
        "      print(\"大人ではないです\")\n",
        "\n",
        "human1 = Human(\"鈴木\", 25)\n",
        "human2 = Human(\"田中\", 20)\n",
        "human3 = Human(\"金子\", 17)\n",
        "human4 = Human(\"佐藤\", 56)\n",
        "human5 = Human(\"竹内\", 4)\n",
        "\n",
        "lst_human :list = [human1, human2, human3, human4, human5]\n",
        "for i in range(len(lst_human)):\n",
        "  lst_human[i].check_adult()"
      ],
      "metadata": {
        "colab": {
          "base_uri": "https://localhost:8080/"
        },
        "id": "wh3diOfSq5uq",
        "outputId": "e4a6dfe2-3c81-4bed-9d7b-3f3b83a1ab7c"
      },
      "execution_count": 29,
      "outputs": [
        {
          "output_type": "stream",
          "name": "stdout",
          "text": [
            "大人です\n",
            "大人です\n",
            "大人ではないです\n",
            "大人です\n",
            "大人ではないです\n"
          ]
        }
      ]
    }
  ]
}